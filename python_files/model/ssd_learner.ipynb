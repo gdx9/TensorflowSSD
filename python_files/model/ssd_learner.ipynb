{
 "cells": [
  {
   "cell_type": "code",
   "execution_count": null,
   "id": "99aae683",
   "metadata": {},
   "outputs": [],
   "source": [
    "from ssd_model_trainer import *"
   ]
  },
  {
   "cell_type": "code",
   "execution_count": null,
   "id": "1e646499",
   "metadata": {
    "scrolled": true
   },
   "outputs": [],
   "source": [
    "box_converter = BoxConverter(box_sizes, image_size, num_classes, data_dir, is_save_=False)\n",
    "#box_converter.show_layer_boxes()\n",
    "trainer = SsdModelTrainer(data_dir, box_converter)"
   ]
  },
  {
   "cell_type": "code",
   "execution_count": null,
   "id": "0efea768",
   "metadata": {},
   "outputs": [],
   "source": [
    "learning_rates = [1e-3, 1e-4, 1e-5, 1e-6]\n",
    "trainer.train(learning_rates, 80)"
   ]
  },
  {
   "cell_type": "code",
   "execution_count": null,
   "id": "c5cb9ee0",
   "metadata": {},
   "outputs": [],
   "source": [
    "## test results\n",
    "trainer.showTestResults(is_dataset_test=True)"
   ]
  },
  {
   "cell_type": "code",
   "execution_count": null,
   "id": "ae3798ad",
   "metadata": {},
   "outputs": [],
   "source": [
    "# save\n",
    "# centers.bin\n",
    "# wh.bin\n",
    "box_converter.saveBoxData()\n",
    "\n",
    "# convert model to supported format\n",
    "supported_model = trainer.convertToSupportedFormat()\n",
    "# save model's .h5-file\n",
    "supported_model.save(os.path.join(output_dir, h5_model_name))\n"
   ]
  },
  {
   "cell_type": "code",
   "execution_count": null,
   "id": "1c4d0cf2",
   "metadata": {},
   "outputs": [],
   "source": []
  }
 ],
 "metadata": {
  "kernelspec": {
   "display_name": "Python 3 (ipykernel)",
   "language": "python",
   "name": "python3"
  },
  "language_info": {
   "codemirror_mode": {
    "name": "ipython",
    "version": 3
   },
   "file_extension": ".py",
   "mimetype": "text/x-python",
   "name": "python",
   "nbconvert_exporter": "python",
   "pygments_lexer": "ipython3",
   "version": "3.8.10"
  }
 },
 "nbformat": 4,
 "nbformat_minor": 5
}
