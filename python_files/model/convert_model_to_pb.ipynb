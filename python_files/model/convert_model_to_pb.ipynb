{
 "cells": [
  {
   "cell_type": "code",
   "execution_count": null,
   "id": "d3e75053",
   "metadata": {},
   "outputs": [],
   "source": [
    "import os\n",
    "import cv2\n",
    "import numpy as np\n",
    "import time\n",
    "\n",
    "import tensorflow as tf\n",
    "from tensorflow.python.framework.convert_to_constants import convert_variables_to_constants_v2"
   ]
  },
  {
   "cell_type": "code",
   "execution_count": null,
   "id": "52bf5bc7",
   "metadata": {},
   "outputs": [],
   "source": [
    "import sys\n",
    "sys.path.append('..')\n",
    "\n",
    "from ssd_settings import *"
   ]
  },
  {
   "cell_type": "code",
   "execution_count": null,
   "id": "98db1e25",
   "metadata": {},
   "outputs": [],
   "source": [
    "class ModelPbConverter:\n",
    "    def __init__(self,):\n",
    "        pass\n",
    "    \n",
    "    def getFrozenGraph(self, model):\n",
    "        # get model TF graph\n",
    "        model_graph = tf.function(lambda x: model(x))\n",
    "\n",
    "        # get concrete function\n",
    "        model_graph = model_graph.get_concrete_function(\n",
    "            tf.TensorSpec(model.inputs[0].shape, model.inputs[0].dtype))\n",
    "\n",
    "        frozen_function = convert_variables_to_constants_v2(model_graph)\n",
    "        \n",
    "        return frozen_function.graph\n",
    "    \n",
    "    def savePbModel(self, frozen_graph, save_dir, model_name):\n",
    "        # save full tf model\n",
    "        tf.io.write_graph(graph_or_graph_def=frozen_graph,\n",
    "                          logdir=save_dir,\n",
    "                          name=model_name,\n",
    "                          as_text=False)\n",
    "        print('model saved')\n",
    "    \n",
    "    def testProtobufModel(self,pb_model_path, test_image_path, num_executions=1, save_output=False):\n",
    "        # load blob model\n",
    "        opencv_model = cv2.dnn.readNetFromTensorflow(pb_model_path)\n",
    "\n",
    "        test_image = cv2.imread(test_image_path, cv2.IMREAD_COLOR)\n",
    "\n",
    "        input_blob = cv2.dnn.blobFromImage(\n",
    "            image=test_image,\n",
    "            scalefactor=1./255.0,\n",
    "            size=(image_size,image_size)# new size\n",
    "        )\n",
    "        print(\"blob shape: \", input_blob.shape, \"with max value of\", np.max(input_blob.flatten()))\n",
    "\n",
    "        exec_times = list()\n",
    "        \n",
    "        for i in range(num_executions):\n",
    "\n",
    "            start = time.time()# measure time\n",
    "\n",
    "            opencv_model.setInput(input_blob)\n",
    "            out = opencv_model.forward()\n",
    "\n",
    "            end = time.time()# measure time\n",
    "            seconds = end - start\n",
    "            exec_times.append(seconds*1000)\n",
    "            \n",
    "            if i % 10 == 0:\n",
    "                print(\"iteration:\", i)\n",
    "            \n",
    "            \n",
    "        print(\"output shape:\", out.shape)\n",
    "        print(\"first values: \", out[0,:10])\n",
    "        print(\"maxval:\", np.max(out.flatten()))\n",
    "        print(\"argmax:\", np.argmax(out.flatten()))\n",
    "        print(\"average execution time:\", np.average(exec_times))\n",
    "        \n",
    "        if save_output:\n",
    "            # write to file\n",
    "            out_file_path = os.path.join(output_dir, \"output.bin\")\n",
    "            newFile = open(out_file_path, \"wb\")\n",
    "            newFile.write(out.tobytes())\n",
    "            print(\"output.bin saved to\", out_file_path)\n",
    "        "
   ]
  },
  {
   "cell_type": "code",
   "execution_count": null,
   "id": "a33e38a3",
   "metadata": {},
   "outputs": [],
   "source": [
    "pb_converter = ModelPbConverter()\n",
    "\n",
    "h5_model = tf.keras.models.load_model(os.path.join(output_dir,h5_model_name))\n",
    "#h5_model.summary()\n",
    "frozen_graph = pb_converter.getFrozenGraph(h5_model)\n",
    "pb_converter.savePbModel(frozen_graph, output_dir, pb_model_name)"
   ]
  },
  {
   "cell_type": "code",
   "execution_count": null,
   "id": "28e623bf",
   "metadata": {},
   "outputs": [],
   "source": [
    "# test protobuf model\n",
    "pb_converter.testProtobufModel(os.path.join(output_dir, pb_model_name),\n",
    "                                os.path.join(data_dir, \"0.png\"),\n",
    "                                150, save_output=True)"
   ]
  },
  {
   "cell_type": "code",
   "execution_count": null,
   "id": "947f0be0",
   "metadata": {},
   "outputs": [],
   "source": []
  }
 ],
 "metadata": {
  "kernelspec": {
   "display_name": "Python 3 (ipykernel)",
   "language": "python",
   "name": "python3"
  },
  "language_info": {
   "codemirror_mode": {
    "name": "ipython",
    "version": 3
   },
   "file_extension": ".py",
   "mimetype": "text/x-python",
   "name": "python",
   "nbconvert_exporter": "python",
   "pygments_lexer": "ipython3",
   "version": "3.8.10"
  }
 },
 "nbformat": 4,
 "nbformat_minor": 5
}
