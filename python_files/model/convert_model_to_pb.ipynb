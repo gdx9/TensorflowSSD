{
 "cells": [
  {
   "cell_type": "code",
   "execution_count": null,
   "id": "d3e75053",
   "metadata": {},
   "outputs": [],
   "source": [
    "from model_pb_converter import *"
   ]
  },
  {
   "cell_type": "code",
   "execution_count": null,
   "id": "a33e38a3",
   "metadata": {},
   "outputs": [],
   "source": [
    "pb_converter = ModelPbConverter()\n",
    "\n",
    "h5_model = tf.keras.models.load_model(os.path.join(output_dir,h5_model_name))\n",
    "#h5_model.summary()\n",
    "frozen_graph = pb_converter.getFrozenGraph(h5_model)\n",
    "pb_converter.savePbModel(frozen_graph, output_dir, pb_model_name)"
   ]
  },
  {
   "cell_type": "code",
   "execution_count": null,
   "id": "28e623bf",
   "metadata": {},
   "outputs": [],
   "source": [
    "# test protobuf model\n",
    "pb_converter.testProtobufModel(os.path.join(output_dir, pb_model_name),\n",
    "                                os.path.join(data_dir, \"0.png\"),\n",
    "                                150, save_output=True)"
   ]
  },
  {
   "cell_type": "code",
   "execution_count": null,
   "id": "947f0be0",
   "metadata": {},
   "outputs": [],
   "source": []
  }
 ],
 "metadata": {
  "kernelspec": {
   "display_name": "Python 3 (ipykernel)",
   "language": "python",
   "name": "python3"
  },
  "language_info": {
   "codemirror_mode": {
    "name": "ipython",
    "version": 3
   },
   "file_extension": ".py",
   "mimetype": "text/x-python",
   "name": "python",
   "nbconvert_exporter": "python",
   "pygments_lexer": "ipython3",
   "version": "3.8.10"
  }
 },
 "nbformat": 4,
 "nbformat_minor": 5
}
