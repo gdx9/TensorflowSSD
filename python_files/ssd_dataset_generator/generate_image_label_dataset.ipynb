{
 "cells": [
  {
   "cell_type": "code",
   "execution_count": null,
   "id": "7737b61d",
   "metadata": {},
   "outputs": [],
   "source": [
    "import sys \n",
    "sys.path.append('..')# parent directory\n",
    "\n",
    "from ssd_settings import *\n",
    "from ssd_data_generator import *"
   ]
  },
  {
   "cell_type": "code",
   "execution_count": null,
   "id": "dd3b2c0d",
   "metadata": {},
   "outputs": [],
   "source": [
    "pic_generator = SyntheticDatasetGenerator()"
   ]
  },
  {
   "cell_type": "code",
   "execution_count": null,
   "id": "3eef1398",
   "metadata": {},
   "outputs": [],
   "source": [
    "# avg speed: 1000 pics in 11 mins\n",
    "pic_generator.generateDataset(save_dir=data_dir, generate_number=800, save=True)"
   ]
  },
  {
   "cell_type": "code",
   "execution_count": null,
   "id": "b503b0ad",
   "metadata": {},
   "outputs": [],
   "source": []
  }
 ],
 "metadata": {
  "kernelspec": {
   "display_name": "Python 3 (ipykernel)",
   "language": "python",
   "name": "python3"
  },
  "language_info": {
   "codemirror_mode": {
    "name": "ipython",
    "version": 3
   },
   "file_extension": ".py",
   "mimetype": "text/x-python",
   "name": "python",
   "nbconvert_exporter": "python",
   "pygments_lexer": "ipython3",
   "version": "3.8.10"
  }
 },
 "nbformat": 4,
 "nbformat_minor": 5
}
